{
 "cells": [
  {
   "cell_type": "markdown",
   "id": "f1ced32c",
   "metadata": {},
   "source": [
    "# Create Classes"
   ]
  },
  {
   "cell_type": "code",
   "execution_count": 441,
   "id": "fc2ee663",
   "metadata": {},
   "outputs": [],
   "source": [
    "import random\n",
    "\n",
    "# Building a class for the data\n",
    "\n",
    "class Sentiment:\n",
    "    NEGATIVE = \"NEGATIVE\"\n",
    "    POSITIVE = \"POSITIVE\"\n",
    "    NEUTRAL = \"NEUTRAL\"\n",
    "\n",
    "class Review():\n",
    "    def __init__(self, text, score):\n",
    "        self.text = text\n",
    "        self.score = score\n",
    "        self.sentiment = self.get_sentiment()\n",
    "            \n",
    "    def get_sentiment(self):\n",
    "        if self.score <= 2:\n",
    "            return Sentiment.NEGATIVE\n",
    "        elif self.score == 3:\n",
    "            return Sentiment.NEUTRAL\n",
    "        else: #Score 4 oe 5\n",
    "            return Sentiment.POSITIVE\n",
    "\n",
    "# This class created to call an even distribute method\n",
    "class ReviewContainer():\n",
    "        # The training and test sets have 2 outputs        \n",
    "        def __init__(self, reviews):\n",
    "            self.reviews = reviews\n",
    "        \n",
    "        def get_text(self):\n",
    "            return [x.text for x in self.reviews]\n",
    "    \n",
    "        def get_sentiment(self):\n",
    "            return [x.sentiment for x in self.reviews]\n",
    "    \n",
    "    \n",
    "        def evenly_distribute(self):\n",
    "            negative = list(filter(lambda x: x.sentiment == Sentiment.NEGATIVE, self.reviews))\n",
    "            positive = list(filter(lambda x: x.sentiment == Sentiment.POSITIVE, self.reviews))\n",
    "            neutral = list(filter(lambda x: x.sentiment == Sentiment.NEUTRAL, self.reviews))\n",
    "            positive_shrunk = positive[:len(negative)]\n",
    "            neutral_shrunk = neutral[:len(negative)]\n",
    "            self.reviews = negative + positive_shrunk + neutral_shrunk\n",
    "            random.shuffle(self.reviews)\n",
    "                "
   ]
  },
  {
   "cell_type": "markdown",
   "id": "792f0fd3",
   "metadata": {},
   "source": [
    "# Load Data and Libraries"
   ]
  },
  {
   "cell_type": "code",
   "execution_count": 442,
   "id": "5eb439e2",
   "metadata": {},
   "outputs": [
    {
     "data": {
      "text/plain": [
       "'POSITIVE'"
      ]
     },
     "execution_count": 442,
     "metadata": {},
     "output_type": "execute_result"
    }
   ],
   "source": [
    "import numpy as np\n",
    "from sklearn.model_selection import train_test_split\n",
    "# from sklearn.feature_extraction.text import CountVectorizer, TfidfVectorizer\n",
    "import json\n",
    "\n",
    "# Amazon data from http://jmcauley.ucsd.edu/data/amazon/\n",
    "file_name = \"./books_small_10000.json\"\n",
    "\n",
    "# Empty list, then itrate through books file\n",
    "reviews = []\n",
    "with open(file_name) as f:\n",
    "    for line in f:\n",
    "        review = json.loads(line)\n",
    "        reviews.append(Review(review['reviewText'], review['overall']))\n",
    "        \n",
    "reviews[5].sentiment"
   ]
  },
  {
   "cell_type": "markdown",
   "id": "707def33",
   "metadata": {},
   "source": [
    "# Prepare Data"
   ]
  },
  {
   "cell_type": "code",
   "execution_count": 443,
   "id": "a8a06b27",
   "metadata": {},
   "outputs": [
    {
     "data": {
      "text/plain": [
       "10000"
      ]
     },
     "execution_count": 443,
     "metadata": {},
     "output_type": "execute_result"
    }
   ],
   "source": [
    "len(reviews)"
   ]
  },
  {
   "cell_type": "code",
   "execution_count": 444,
   "id": "71b91cd5",
   "metadata": {},
   "outputs": [
    {
     "data": {
      "text/plain": [
       "6700"
      ]
     },
     "execution_count": 444,
     "metadata": {},
     "output_type": "execute_result"
    }
   ],
   "source": [
    "len(training)"
   ]
  },
  {
   "cell_type": "code",
   "execution_count": 445,
   "id": "06884164",
   "metadata": {},
   "outputs": [
    {
     "data": {
      "text/plain": [
       "3300"
      ]
     },
     "execution_count": 445,
     "metadata": {},
     "output_type": "execute_result"
    }
   ],
   "source": [
    "len(test)"
   ]
  },
  {
   "cell_type": "code",
   "execution_count": 446,
   "id": "153351f6",
   "metadata": {},
   "outputs": [],
   "source": [
    "training, test = train_test_split(reviews,test_size=0.33, random_state=42)"
   ]
  },
  {
   "cell_type": "markdown",
   "id": "36baf13e",
   "metadata": {},
   "source": [
    "Added in after we created the new ReviewContainer class, we see that each Sentiment has an equal value now"
   ]
  },
  {
   "cell_type": "code",
   "execution_count": 447,
   "id": "d575a1aa",
   "metadata": {},
   "outputs": [],
   "source": [
    "train_cont = ReviewContainer(training)\n",
    "train_cont.evenly_distribute()"
   ]
  },
  {
   "cell_type": "code",
   "execution_count": 448,
   "id": "17e8717b",
   "metadata": {},
   "outputs": [
    {
     "data": {
      "text/plain": [
       "1308"
      ]
     },
     "execution_count": 448,
     "metadata": {},
     "output_type": "execute_result"
    }
   ],
   "source": [
    "len(training_cont.reviews)"
   ]
  },
  {
   "cell_type": "code",
   "execution_count": 449,
   "id": "9627bc8b",
   "metadata": {},
   "outputs": [],
   "source": [
    "test_cont = ReviewContainer(test)\n",
    "test_cont.evenly_distribute()"
   ]
  },
  {
   "cell_type": "code",
   "execution_count": 450,
   "id": "94eb8d7e",
   "metadata": {},
   "outputs": [
    {
     "data": {
      "text/plain": [
       "624"
      ]
     },
     "execution_count": 450,
     "metadata": {},
     "output_type": "execute_result"
    }
   ],
   "source": [
    "len(test_cont.reviews)"
   ]
  },
  {
   "cell_type": "code",
   "execution_count": 451,
   "id": "5aa9a49f",
   "metadata": {},
   "outputs": [],
   "source": [
    "train_x = train_cont.get_text()\n",
    "train_y = train_cont.get_sentiment()"
   ]
  },
  {
   "cell_type": "code",
   "execution_count": 452,
   "id": "9e3dca47",
   "metadata": {},
   "outputs": [],
   "source": [
    "test_x = test_cont.get_text()\n",
    "test_y = test_cont.get_sentiment()"
   ]
  },
  {
   "cell_type": "markdown",
   "id": "fa85b216",
   "metadata": {},
   "source": [
    "Now we can check the counts of the sentiments with our new ReviewContainer class"
   ]
  },
  {
   "cell_type": "code",
   "execution_count": 453,
   "id": "b915ad02",
   "metadata": {},
   "outputs": [
    {
     "name": "stdout",
     "output_type": "stream",
     "text": [
      "436\n",
      "436\n"
     ]
    }
   ],
   "source": [
    "print(train_y.count(Sentiment.POSITIVE))\n",
    "print(train_y.count(Sentiment.NEUTRAL))"
   ]
  },
  {
   "cell_type": "code",
   "execution_count": 454,
   "id": "5bd9ed07",
   "metadata": {},
   "outputs": [
    {
     "name": "stdout",
     "output_type": "stream",
     "text": [
      "208\n",
      "208\n"
     ]
    }
   ],
   "source": [
    "print(test_y.count(Sentiment.POSITIVE))\n",
    "print(test_y.count(Sentiment.NEUTRAL))"
   ]
  },
  {
   "cell_type": "markdown",
   "id": "1fe0b797",
   "metadata": {},
   "source": [
    "#### Bag of words vectorization"
   ]
  },
  {
   "cell_type": "code",
   "execution_count": 455,
   "id": "5d8602fd",
   "metadata": {},
   "outputs": [
    {
     "data": {
      "text/plain": [
       "<1308x11465 sparse matrix of type '<class 'numpy.float64'>'\n",
       "\twith 83190 stored elements in Compressed Sparse Row format>"
      ]
     },
     "execution_count": 455,
     "metadata": {},
     "output_type": "execute_result"
    }
   ],
   "source": [
    "from sklearn.feature_extraction.text import CountVectorizer, TfidfVectorizer\n",
    "# Problem with Countvectorizer is it weighs each word equally\n",
    "# Good and Bad should be rated higher than a common word\n",
    "# TO SOLVE THIS PROBLEM WE DECIDED TO IMPORT Tfidvectorizer\n",
    "\n",
    "\n",
    "# Using the countVectorizer function for this example\n",
    "# countVector = CountVectorizer()\n",
    "\n",
    "# OR\n",
    "\n",
    "# Using the TfidfVectorizer function for this example, hoping for more accurate results\n",
    "countVector = TfidfVectorizer()\n",
    "\n",
    "# Fits and transform the data into vectors\n",
    "train_x_vectors = countVector.fit_transform(train_x)\n",
    "train_x_vectors\n",
    "# All of our training values, rows of 0s and non 0s\n",
    "\n"
   ]
  },
  {
   "cell_type": "code",
   "execution_count": 456,
   "id": "5028cd8d",
   "metadata": {},
   "outputs": [
    {
     "name": "stdout",
     "output_type": "stream",
     "text": [
      "Title: Regine&#8217;s Book  - A Teen Girl&#8217;s Last WordsAuthor: Regine StokkePublisher: Zest Books LLCISBN: 978-1-936976-01-0&#8220;I&#8217;ve fought and fought; I&#8217;ve done everything possible, and at this point there&#8217;s nothing left to do. If the disease doesn&#8217;t loosen its grip, it won&#8217;t be long before it sucks me down. I&#8217;m scared to death, and sad,&#8221; Regine writes in her blog-adapted book, &#34;Regine&#8217;s Book &#8211; A Teen Girl&#8217;s Last Words.&#34;At three hundred and thirty-six glossy pages, this paperback targets those who loved the girl behind her worldwide blog about her illness, those facing the daunting disease of leukemia, or those curious about dying at a young age. With minor profanity and topics discussing effects of medications, medical issues, and death, it would be geared toward mature readers. Many colored photographs of the beautiful girl, her family, and friends, along with her artistic creations and poems grace the pages.When seventeen year old Regine Stokke in Norway heard she had a lethal form of leukemia, she did her best to overcome it. Going through numerous painful bone marrow biopsies, intense chemotherapies, a bone marrow transplant, over four Vidaza cycles, and three bouts of blood poisoning, she fought back with determination, only to succumb to the horrible disease fifteen months later.Blogging as often as her worn down body could handle, she had over nine thousand internet followers, who sometimes posted up to seventeen hundred responses. Her book adds others&#8217; posts of encouragement, love, and hope as well as a few insensitive, hurtful comments with her responses.Reflecting on her young life of family, friends, and school, her posts reflect both positive and negative mood swings as she deals with each stage of the invasive cancer. Lonely, broken, and crying, the writer pours out her soul in short poems, art work, and written notes.Throughout the writing, types of leukemia are explained, along with several medical treatments. The young teenager promotes others to become blood or bone marrow donors, but there are no resources listed at the end of the book.Rallying or relapsing, she fights to experience life as a normal teen by going to rock concerts, flying in a helicopter, or taking short trips. Toward the end of life, she accepts the reality of death, as sad and heart-breaking as it is.Mentioning more than once, Regine had no faith in God or belief in an afterlife. One hopes this young, brave girl found the Peace that passes all understanding before she met her Maker or that others, because of her book, seek Him for redemption.Zest Books LLC furnished a complimentary book in exchange for a review of the reader&#8217;s honest opinion.\n"
     ]
    }
   ],
   "source": [
    "print(train_x[0])"
   ]
  },
  {
   "cell_type": "code",
   "execution_count": 457,
   "id": "43ee37aa",
   "metadata": {},
   "outputs": [
    {
     "name": "stdout",
     "output_type": "stream",
     "text": [
      "  (0, 7116)\t0.033045509860454125\n",
      "  (0, 4933)\t0.028652406549289303\n",
      "  (0, 8226)\t0.025494903981626935\n",
      "  (0, 8562)\t0.025839494318072774\n",
      "  (0, 3649)\t0.032547649635980655\n",
      "  (0, 2121)\t0.041860828795461866\n",
      "  (0, 4252)\t0.0502769388924082\n",
      "  (0, 6073)\t0.0502769388924082\n",
      "  (0, 8311)\t0.04755300860701105\n",
      "  (0, 4096)\t0.023629408958746097\n",
      "  (0, 4866)\t0.023995816969548698\n",
      "  (0, 8967)\t0.040963759732926985\n",
      "  (0, 1060)\t0.02012210607659219\n",
      "  (0, 6240)\t0.04755300860701105\n",
      "  (0, 6505)\t0.03720423921572126\n",
      "  (0, 10682)\t0.03720423921572126\n",
      "  (0, 462)\t0.015914202483340918\n",
      "  (0, 7370)\t0.040963759732926985\n",
      "  (0, 10203)\t0.023761568162512084\n",
      "  (0, 7420)\t0.04412126230058936\n",
      "  (0, 4150)\t0.022550690397730718\n",
      "  (0, 1394)\t0.04412126230058936\n",
      "  (0, 4957)\t0.03823982944752984\n",
      "  (0, 7090)\t0.01509831916646157\n",
      "  (0, 377)\t0.0502769388924082\n",
      "  :\t:\n",
      "  (0, 7669)\t0.02731651878587493\n",
      "  (0, 10258)\t0.027525975544242364\n",
      "  (0, 808)\t0.06373762850488811\n",
      "  (0, 7747)\t0.040172488741873305\n",
      "  (0, 3616)\t0.02699399099370517\n",
      "  (0, 3093)\t0.028519371732867796\n",
      "  (0, 549)\t0.12730160143871583\n",
      "  (0, 4148)\t0.1368610479380028\n",
      "  (0, 10876)\t0.04940726598114651\n",
      "  (0, 155)\t0.032084152855711\n",
      "  (0, 2)\t0.0502769388924082\n",
      "  (0, 162)\t0.0502769388924082\n",
      "  (0, 167)\t0.0502769388924082\n",
      "  (0, 6074)\t0.0502769388924082\n",
      "  (0, 1320)\t0.03739785982787307\n",
      "  (0, 11452)\t0.1005538777848164\n",
      "  (0, 9697)\t0.0502769388924082\n",
      "  (0, 11307)\t0.0502769388924082\n",
      "  (0, 5853)\t0.053173424877048674\n",
      "  (0, 4370)\t0.1552428131195121\n",
      "  (0, 10118)\t0.11471948834258955\n",
      "  (0, 1312)\t0.07095279154513662\n",
      "  (0, 154)\t0.32648735972965587\n",
      "  (0, 8352)\t0.3016616333544492\n",
      "  (0, 10344)\t0.032547649635980655\n"
     ]
    }
   ],
   "source": [
    "print(train_x_vectors[0])"
   ]
  },
  {
   "cell_type": "code",
   "execution_count": 458,
   "id": "2b168db2",
   "metadata": {},
   "outputs": [],
   "source": [
    "# Only need to transform because its only test data, only train data should be fitted\n",
    "test_x_vectors = countVector.transform(test_x)\n"
   ]
  },
  {
   "cell_type": "markdown",
   "id": "3fea45f9",
   "metadata": {},
   "source": [
    "## Classification"
   ]
  },
  {
   "cell_type": "code",
   "execution_count": 459,
   "id": "200bfbbf",
   "metadata": {},
   "outputs": [],
   "source": [
    "# This is where we use the classifier function from sklearn and test out different models"
   ]
  },
  {
   "cell_type": "markdown",
   "id": "cd279bbb",
   "metadata": {},
   "source": [
    "#### Linear SVM"
   ]
  },
  {
   "cell_type": "code",
   "execution_count": 460,
   "id": "4e80c6e6",
   "metadata": {},
   "outputs": [
    {
     "data": {
      "text/plain": [
       "array(['POSITIVE'], dtype='<U8')"
      ]
     },
     "execution_count": 460,
     "metadata": {},
     "output_type": "execute_result"
    }
   ],
   "source": [
    "from sklearn.svm import SVC\n",
    "\n",
    "clf_svc = SVC(kernel = 'linear')\n",
    "\n",
    "clf_svc.fit(train_x_vectors, train_y)\n",
    "\n",
    "test_x[0]\n",
    "test_x_vectors[0]\n",
    "\n",
    "clf_svc.predict(test_x_vectors[0])"
   ]
  },
  {
   "cell_type": "markdown",
   "id": "be68d425",
   "metadata": {},
   "source": [
    "#### Decision Tree"
   ]
  },
  {
   "cell_type": "code",
   "execution_count": 461,
   "id": "2c99ad86",
   "metadata": {},
   "outputs": [
    {
     "data": {
      "text/plain": [
       "array(['POSITIVE'], dtype='<U8')"
      ]
     },
     "execution_count": 461,
     "metadata": {},
     "output_type": "execute_result"
    }
   ],
   "source": [
    "from sklearn.tree import DecisionTreeClassifier\n",
    "\n",
    "dec_tree_clf = DecisionTreeClassifier()\n",
    "\n",
    "dec_tree_clf.fit(train_x_vectors, train_y)\n",
    "dec_tree_clf.predict(test_x_vectors[0])\n"
   ]
  },
  {
   "cell_type": "markdown",
   "id": "0bfbcda2",
   "metadata": {},
   "source": [
    "#### Naive Bayes"
   ]
  },
  {
   "cell_type": "code",
   "execution_count": 462,
   "id": "8968718d",
   "metadata": {},
   "outputs": [
    {
     "data": {
      "text/plain": [
       "array(['NEUTRAL'], dtype='<U8')"
      ]
     },
     "execution_count": 462,
     "metadata": {},
     "output_type": "execute_result"
    }
   ],
   "source": [
    "from sklearn.naive_bayes import GaussianNB\n",
    "\n",
    "clf_gnb = GaussianNB()\n",
    "\n",
    "# Had to dense the X vectors into an array\n",
    "clf_gnb.fit(train_x_vectors.toarray(), train_y)\n",
    "clf_gnb.predict(test_x_vectors[[0]].toarray())"
   ]
  },
  {
   "cell_type": "markdown",
   "id": "1bc736b4",
   "metadata": {},
   "source": [
    "#### Logistic Regression"
   ]
  },
  {
   "cell_type": "code",
   "execution_count": 463,
   "id": "083b691e",
   "metadata": {},
   "outputs": [
    {
     "data": {
      "text/plain": [
       "array(['POSITIVE'], dtype='<U8')"
      ]
     },
     "execution_count": 463,
     "metadata": {},
     "output_type": "execute_result"
    }
   ],
   "source": [
    "from sklearn.linear_model import LogisticRegression\n",
    "\n",
    "clf_log = LogisticRegression()\n",
    "\n",
    "clf_log.fit(train_x_vectors, train_y)\n",
    "clf_log.predict(test_x_vectors[0])"
   ]
  },
  {
   "cell_type": "markdown",
   "id": "8c8936f5",
   "metadata": {},
   "source": [
    "## Evaluation"
   ]
  },
  {
   "cell_type": "markdown",
   "id": "1420be1b",
   "metadata": {},
   "source": [
    "#### Linear SV"
   ]
  },
  {
   "cell_type": "code",
   "execution_count": 464,
   "id": "2969dcc3",
   "metadata": {},
   "outputs": [
    {
     "data": {
      "text/plain": [
       "0.6169871794871795"
      ]
     },
     "execution_count": 464,
     "metadata": {},
     "output_type": "execute_result"
    }
   ],
   "source": [
    "# Went into documentation, use score feature to check accuracy, \n",
    "# this is more specifically the MEAN accuract for the labels\n",
    "\n",
    "clf_svc.score(test_x_vectors, test_y)\n"
   ]
  },
  {
   "cell_type": "markdown",
   "id": "56cbe2c4",
   "metadata": {},
   "source": [
    "#### Decision Tree"
   ]
  },
  {
   "cell_type": "code",
   "execution_count": 465,
   "id": "9f31737f",
   "metadata": {},
   "outputs": [
    {
     "data": {
      "text/plain": [
       "0.4342948717948718"
      ]
     },
     "execution_count": 465,
     "metadata": {},
     "output_type": "execute_result"
    }
   ],
   "source": [
    "dec_tree_clf.score(test_x_vectors, test_y)"
   ]
  },
  {
   "cell_type": "markdown",
   "id": "54210a01",
   "metadata": {},
   "source": [
    "#### Naive Bayes"
   ]
  },
  {
   "cell_type": "code",
   "execution_count": 466,
   "id": "7039b6f0",
   "metadata": {},
   "outputs": [
    {
     "data": {
      "text/plain": [
       "0.963302752293578"
      ]
     },
     "execution_count": 466,
     "metadata": {},
     "output_type": "execute_result"
    }
   ],
   "source": [
    "clf_gnb.score(train_x_vectors.toarray(), train_y)"
   ]
  },
  {
   "cell_type": "markdown",
   "id": "34f17701",
   "metadata": {},
   "source": [
    "#### Logistic Regression"
   ]
  },
  {
   "cell_type": "code",
   "execution_count": 467,
   "id": "e6bb8b11",
   "metadata": {},
   "outputs": [
    {
     "data": {
      "text/plain": [
       "0.6217948717948718"
      ]
     },
     "execution_count": 467,
     "metadata": {},
     "output_type": "execute_result"
    }
   ],
   "source": [
    "clf_log.score(test_x_vectors, test_y)"
   ]
  },
  {
   "cell_type": "markdown",
   "id": "c5d08b71",
   "metadata": {},
   "source": [
    "There is a catch, we only looked at accuracy, now we have to look into the f1score"
   ]
  },
  {
   "cell_type": "code",
   "execution_count": 468,
   "id": "ffaa7108",
   "metadata": {},
   "outputs": [],
   "source": [
    "from sklearn.metrics import f1_score"
   ]
  },
  {
   "cell_type": "markdown",
   "id": "d89e286d",
   "metadata": {},
   "source": [
    "#### Linear SV"
   ]
  },
  {
   "cell_type": "code",
   "execution_count": 469,
   "id": "f7d5a8dc",
   "metadata": {},
   "outputs": [
    {
     "data": {
      "text/plain": [
       "array([0.69417476, 0.5450237 , 0.61352657])"
      ]
     },
     "execution_count": 469,
     "metadata": {},
     "output_type": "execute_result"
    }
   ],
   "source": [
    "f1_score(test_y, clf_svc.predict(test_x_vectors), average = None, labels = [Sentiment.POSITIVE, \n",
    "                                                                            Sentiment.NEUTRAL, Sentiment.NEGATIVE])\n",
    "# As we see for the scores, its good for the positive reviews, but not good at all for neutral or negative reviews\n",
    "\n",
    "# First comment was before we evenly distributed the reviews, now they are all okay in terms of f1_score"
   ]
  },
  {
   "cell_type": "markdown",
   "id": "d2ea3a94",
   "metadata": {},
   "source": [
    "#### Decision Tree"
   ]
  },
  {
   "cell_type": "code",
   "execution_count": 470,
   "id": "03db327a",
   "metadata": {},
   "outputs": [
    {
     "data": {
      "text/plain": [
       "array([0.70117647, 0.5410628 , 0.62102689])"
      ]
     },
     "execution_count": 470,
     "metadata": {},
     "output_type": "execute_result"
    }
   ],
   "source": [
    "f1_score(test_y, clf_log.predict(test_x_vectors), average = None, labels = [Sentiment.POSITIVE, \n",
    "                                                                                Sentiment.NEUTRAL, Sentiment.NEGATIVE])\n",
    "# Same trend from Linear SV\n",
    "\n",
    "# First comment was before we evenly distributed the reviews, now they are all okay in terms of f1_score"
   ]
  },
  {
   "cell_type": "markdown",
   "id": "6c0bfb46",
   "metadata": {},
   "source": [
    "#### Naive Bayes"
   ]
  },
  {
   "cell_type": "code",
   "execution_count": 471,
   "id": "45e8b93a",
   "metadata": {},
   "outputs": [
    {
     "data": {
      "text/plain": [
       "array([0.46786632, 0.40089087, 0.43902439])"
      ]
     },
     "execution_count": 471,
     "metadata": {},
     "output_type": "execute_result"
    }
   ],
   "source": [
    "f1_score(test_y, clf_gnb.predict(test_x_vectors.toarray()), average = None, labels = [Sentiment.POSITIVE, \n",
    "                                                                                Sentiment.NEUTRAL, Sentiment.NEGATIVE])\n",
    "# Same trend again\n",
    "\n",
    "# First comment was before we evenly distributed the reviews, now they are all okay in terms of f1_score"
   ]
  },
  {
   "cell_type": "markdown",
   "id": "524b89ef",
   "metadata": {},
   "source": [
    "#### Logistic Regression"
   ]
  },
  {
   "cell_type": "code",
   "execution_count": 472,
   "id": "09fd6a0c",
   "metadata": {},
   "outputs": [
    {
     "data": {
      "text/plain": [
       "array([0.70117647, 0.5410628 , 0.62102689])"
      ]
     },
     "execution_count": 472,
     "metadata": {},
     "output_type": "execute_result"
    }
   ],
   "source": [
    "f1_score(test_y, clf_log.predict(test_x_vectors.toarray()), average = None, labels = [Sentiment.POSITIVE, \n",
    "                                                                                Sentiment.NEUTRAL, Sentiment.NEGATIVE])\n",
    "# Once again, only good at predicing when Sentiment is POSITIVE\n",
    "\n",
    "# First comment was before we evenly distributed the reviews, now they are all okay in terms of f1_score"
   ]
  },
  {
   "cell_type": "markdown",
   "id": "f069b5cc",
   "metadata": {},
   "source": [
    "How can we make our models better for NEGATIVE and NEUTRAL reviews?\n",
    "\n",
    "Since the trend is the same for all models, it might have to do with the data and not with the models"
   ]
  },
  {
   "cell_type": "code",
   "execution_count": 473,
   "id": "9175c5cd",
   "metadata": {},
   "outputs": [
    {
     "data": {
      "text/plain": [
       "436"
      ]
     },
     "execution_count": 473,
     "metadata": {},
     "output_type": "execute_result"
    }
   ],
   "source": [
    "train_y.count(Sentiment.POSITIVE)\n",
    "# Heavily biased towards positive reviews because more of them\n",
    "\n",
    "# THIS WAS BEFORE OUT REVIEW_CONTAINER CLASS, before there was 8 - 10 times as many positives \n",
    "# compared to the negative and neutral values"
   ]
  },
  {
   "cell_type": "code",
   "execution_count": 474,
   "id": "cf7856bd",
   "metadata": {},
   "outputs": [
    {
     "data": {
      "text/plain": [
       "436"
      ]
     },
     "execution_count": 474,
     "metadata": {},
     "output_type": "execute_result"
    }
   ],
   "source": [
    "train_y.count(Sentiment.NEUTRAL)"
   ]
  },
  {
   "cell_type": "code",
   "execution_count": 475,
   "id": "0405a366",
   "metadata": {},
   "outputs": [
    {
     "data": {
      "text/plain": [
       "436"
      ]
     },
     "execution_count": 475,
     "metadata": {},
     "output_type": "execute_result"
    }
   ],
   "source": [
    "train_y.count(Sentiment.NEGATIVE)"
   ]
  },
  {
   "cell_type": "markdown",
   "id": "1bdabad1",
   "metadata": {},
   "source": [
    "Need to balance our data, we are now going to download a larger data set. We swtich data set from Book_smalls to Book_smalls_10000"
   ]
  },
  {
   "cell_type": "markdown",
   "id": "b06f96dd",
   "metadata": {},
   "source": [
    "## Tuning our Model (with Grid Search)"
   ]
  },
  {
   "cell_type": "code",
   "execution_count": 476,
   "id": "1dfad7b9",
   "metadata": {},
   "outputs": [
    {
     "data": {
      "text/plain": [
       "GridSearchCV(cv=5, estimator=SVC(),\n",
       "             param_grid={'C': (1, 4, 8, 16, 32, 64),\n",
       "                         'kernel': ('linear', 'rbf')})"
      ]
     },
     "execution_count": 476,
     "metadata": {},
     "output_type": "execute_result"
    }
   ],
   "source": [
    "from sklearn.model_selection import GridSearchCV\n",
    "# GridSearchCV will allow us to test out different models, in this case SVC, and allow us to compare\n",
    "\n",
    "# SVC() - Used this to compare syntax, then choose what parameters we want to look at\n",
    "\n",
    "parameters = {'kernel': (\"linear\", \"rbf\"), 'C' : (1, 4, 8, 16, 32, 64)}\n",
    "\n",
    "clif_svc = SVC()\n",
    "\n",
    "# Splits data 5 times, to cross-validate\n",
    "tuned_SVC = GridSearchCV(clif_svc, parameters, cv = 5)\n",
    "tuned_SVC.fit(train_x_vectors, train_y)"
   ]
  },
  {
   "cell_type": "code",
   "execution_count": 477,
   "id": "9977bffc",
   "metadata": {},
   "outputs": [
    {
     "data": {
      "text/plain": [
       "0.6169871794871795"
      ]
     },
     "execution_count": 477,
     "metadata": {},
     "output_type": "execute_result"
    }
   ],
   "source": [
    "tuned_SVC.score(test_x_vectors, test_y)"
   ]
  },
  {
   "cell_type": "markdown",
   "id": "59fc0515",
   "metadata": {},
   "source": [
    "Don't see much of a change, this might still have to do with the data set"
   ]
  },
  {
   "cell_type": "markdown",
   "id": "fbf8b20e",
   "metadata": {},
   "source": [
    "## Saving Model"
   ]
  },
  {
   "cell_type": "code",
   "execution_count": 478,
   "id": "6d19a57e",
   "metadata": {},
   "outputs": [],
   "source": [
    "# Something we can do differently is try to strip out all the punctuation, \n",
    "# since it might not have an actual effect on the sentament"
   ]
  },
  {
   "cell_type": "markdown",
   "id": "fa5fff61",
   "metadata": {},
   "source": [
    "#### Saving Model"
   ]
  },
  {
   "cell_type": "code",
   "execution_count": 479,
   "id": "97f90d1d",
   "metadata": {},
   "outputs": [],
   "source": [
    "# Use this to save our model\n",
    "import pickle \n",
    "\n",
    "with open(\"./sentiment_classifer.pkl\", \"wb\") as f:\n",
    "    pickle.dump(tuned_SVC, f)"
   ]
  },
  {
   "cell_type": "markdown",
   "id": "1fa65972",
   "metadata": {},
   "source": [
    "#### Loading Model"
   ]
  },
  {
   "cell_type": "code",
   "execution_count": 480,
   "id": "3942a8ce",
   "metadata": {},
   "outputs": [],
   "source": [
    "import pickle \n",
    "\n",
    "with open(\"./sentiment_classifer.pkl\", \"rb\") as f:\n",
    "    loaded_clf = pickle.load(f)"
   ]
  },
  {
   "cell_type": "code",
   "execution_count": 481,
   "id": "fc4254e0",
   "metadata": {},
   "outputs": [
    {
     "name": "stdout",
     "output_type": "stream",
     "text": [
      "I gave this book a five star because I think out of all of the three football stars, Sam is my favorite.  He has had a lot of women problems and Dellina is just the perfect match for him.  I liked the storyline of Sam's parents.  It sort of made it funny that this big football player has a mom who tells him what to try and is always keeping an eye on him (whether it is checking his closets, his dresser or even telling him what kind of condoms to use.I think that anyone who has read all the Fool's Gold books would enjoy this one as much.  I hope that Susan will write a book about Kenny and Bailey.  I think Chloe will have a big impact on him.\n"
     ]
    },
    {
     "data": {
      "text/plain": [
       "array(['POSITIVE'], dtype='<U8')"
      ]
     },
     "execution_count": 481,
     "metadata": {},
     "output_type": "execute_result"
    }
   ],
   "source": [
    "print(test_x[0])\n",
    "\n",
    "loaded_clf.predict(test_x_vectors[0])"
   ]
  }
 ],
 "metadata": {
  "kernelspec": {
   "display_name": "Python 3 (ipykernel)",
   "language": "python",
   "name": "python3"
  },
  "language_info": {
   "codemirror_mode": {
    "name": "ipython",
    "version": 3
   },
   "file_extension": ".py",
   "mimetype": "text/x-python",
   "name": "python",
   "nbconvert_exporter": "python",
   "pygments_lexer": "ipython3",
   "version": "3.9.7"
  }
 },
 "nbformat": 4,
 "nbformat_minor": 5
}
